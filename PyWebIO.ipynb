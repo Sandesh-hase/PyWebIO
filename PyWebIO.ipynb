{
 "cells": [
  {
   "cell_type": "markdown",
   "id": "graduate-thomas",
   "metadata": {},
   "source": [
    "### PyWebIO"
   ]
  },
  {
   "cell_type": "code",
   "execution_count": 1,
   "id": "assured-binary",
   "metadata": {},
   "outputs": [
    {
     "name": "stderr",
     "output_type": "stream",
     "text": [
      "WARNING: Ignoring invalid distribution -umpy (c:\\users\\sandesh\\anaconda3\\lib\\site-packages)\n",
      "WARNING: Ignoring invalid distribution -umpy (c:\\users\\sandesh\\anaconda3\\lib\\site-packages)"
     ]
    },
    {
     "name": "stdout",
     "output_type": "stream",
     "text": [
      "Collecting pywebio\n",
      "  Downloading pywebio-1.7.0.tar.gz (471 kB)\n",
      "Requirement already satisfied: tornado>=5.0 in c:\\users\\sandesh\\anaconda3\\lib\\site-packages (from pywebio) (6.1)\n",
      "Collecting user-agents\n",
      "  Downloading user_agents-2.2.0-py3-none-any.whl (9.6 kB)\n",
      "Collecting ua-parser>=0.10.0\n",
      "  Downloading ua_parser-0.16.1-py2.py3-none-any.whl (38 kB)\n",
      "Building wheels for collected packages: pywebio\n",
      "  Building wheel for pywebio (setup.py): started\n",
      "  Building wheel for pywebio (setup.py): finished with status 'done'\n",
      "  Created wheel for pywebio: filename=pywebio-1.7.0-py3-none-any.whl size=482954 sha256=a80c0c5ff54beacbadff3886cacbff2faf59dab04781e29b3cb9296f032dba42\n",
      "  Stored in directory: c:\\users\\sandesh\\appdata\\local\\pip\\cache\\wheels\\29\\35\\c9\\0bbc646638e460b5489f80904e3193c34fedb30e6d4c6a8658\n",
      "Successfully built pywebio\n",
      "Installing collected packages: ua-parser, user-agents, pywebio\n",
      "Successfully installed pywebio-1.7.0 ua-parser-0.16.1 user-agents-2.2.0\n"
     ]
    },
    {
     "name": "stderr",
     "output_type": "stream",
     "text": [
      "\n",
      "WARNING: Ignoring invalid distribution -umpy (c:\\users\\sandesh\\anaconda3\\lib\\site-packages)\n",
      "WARNING: Ignoring invalid distribution -umpy (c:\\users\\sandesh\\anaconda3\\lib\\site-packages)\n",
      "WARNING: Ignoring invalid distribution -umpy (c:\\users\\sandesh\\anaconda3\\lib\\site-packages)\n",
      "WARNING: Ignoring invalid distribution -umpy (c:\\users\\sandesh\\anaconda3\\lib\\site-packages)\n",
      "WARNING: Ignoring invalid distribution -umpy (c:\\users\\sandesh\\anaconda3\\lib\\site-packages)\n",
      "WARNING: Ignoring invalid distribution -umpy (c:\\users\\sandesh\\anaconda3\\lib\\site-packages)\n",
      "WARNING: Ignoring invalid distribution -umpy (c:\\users\\sandesh\\anaconda3\\lib\\site-packages)\n"
     ]
    }
   ],
   "source": [
    "!pip install pywebio"
   ]
  },
  {
   "cell_type": "code",
   "execution_count": 2,
   "id": "published-trauma",
   "metadata": {},
   "outputs": [
    {
     "name": "stdin",
     "output_type": "stream",
     "text": [
      "Enter the name Sandesh\n"
     ]
    },
    {
     "name": "stdout",
     "output_type": "stream",
     "text": [
      "Sandesh\n"
     ]
    }
   ],
   "source": [
    "a=input(\"Enter the name\")\n",
    "print(a)"
   ]
  },
  {
   "cell_type": "code",
   "execution_count": 3,
   "id": "careful-trouble",
   "metadata": {},
   "outputs": [],
   "source": [
    "from pywebio.input import *\n",
    "from pywebio.output import *"
   ]
  },
  {
   "cell_type": "code",
   "execution_count": 4,
   "id": "lyric-billy",
   "metadata": {},
   "outputs": [],
   "source": [
    "name=input(\"Enter the name\",type=\"text\")"
   ]
  },
  {
   "cell_type": "code",
   "execution_count": 5,
   "id": "15c20bc9-96a8-49b4-b994-e6a4babf964f",
   "metadata": {},
   "outputs": [
    {
     "data": {
      "text/plain": [
       "'Sandesh and Komal'"
      ]
     },
     "execution_count": 5,
     "metadata": {},
     "output_type": "execute_result"
    }
   ],
   "source": [
    "name"
   ]
  },
  {
   "cell_type": "code",
   "execution_count": 6,
   "id": "intended-adventure",
   "metadata": {},
   "outputs": [],
   "source": [
    "age=input(\"Enter the age\",type=NUMBER)"
   ]
  },
  {
   "cell_type": "code",
   "execution_count": 7,
   "id": "likely-superior",
   "metadata": {},
   "outputs": [
    {
     "data": {
      "text/plain": [
       "25"
      ]
     },
     "execution_count": 7,
     "metadata": {},
     "output_type": "execute_result"
    }
   ],
   "source": [
    "age"
   ]
  },
  {
   "cell_type": "code",
   "execution_count": 8,
   "id": "exterior-music",
   "metadata": {},
   "outputs": [],
   "source": [
    "# Password input\n",
    "password = input(\"Input password\", type=PASSWORD)\n",
    "\n",
    "# Drop-down selection\n",
    "gift = select('Which gift you want?', ['keyboard', 'ipad'])\n",
    "\n",
    "# Checkbox\n",
    "agree = checkbox(\"User Term\", options=['I agree to terms and conditions'])\n",
    "\n",
    "# Single choice\n",
    "answer = radio(\"Choose one\", options=['A', 'B', 'C', 'D'])\n",
    "\n",
    "# Multi-line text input\n",
    "text = textarea('Text Area', rows=3, placeholder='Some text')\n",
    "\n",
    "# File Upload\n",
    "img = file_upload(\"Select a image:\", accept=\"image/*\")\n"
   ]
  },
  {
   "cell_type": "code",
   "execution_count": 9,
   "id": "federal-voice",
   "metadata": {},
   "outputs": [
    {
     "data": {
      "text/plain": [
       "'ipad'"
      ]
     },
     "execution_count": 9,
     "metadata": {},
     "output_type": "execute_result"
    }
   ],
   "source": [
    "gift"
   ]
  },
  {
   "cell_type": "code",
   "execution_count": 10,
   "id": "b41fe876-7853-4424-bfcd-c5173ddec18f",
   "metadata": {},
   "outputs": [
    {
     "data": {
      "text/plain": [
       "['I agree to terms and conditions']"
      ]
     },
     "execution_count": 10,
     "metadata": {},
     "output_type": "execute_result"
    }
   ],
   "source": [
    "agree"
   ]
  },
  {
   "cell_type": "code",
   "execution_count": 11,
   "id": "63c184bb-4a03-4c94-a80e-85d9b1e5339c",
   "metadata": {},
   "outputs": [
    {
     "data": {
      "text/plain": [
       "'B'"
      ]
     },
     "execution_count": 11,
     "metadata": {},
     "output_type": "execute_result"
    }
   ],
   "source": [
    "answer"
   ]
  },
  {
   "cell_type": "code",
   "execution_count": 24,
   "id": "211843d3-4cb4-4c51-b839-d33246bc975c",
   "metadata": {},
   "outputs": [
    {
     "data": {
      "text/plain": [
       "'Cool'"
      ]
     },
     "execution_count": 24,
     "metadata": {},
     "output_type": "execute_result"
    }
   ],
   "source": [
    "text"
   ]
  },
  {
   "cell_type": "code",
   "execution_count": 25,
   "id": "subsequent-water",
   "metadata": {},
   "outputs": [],
   "source": [
    "def check_age(p):  # return None when the check passes, otherwise return the error message\n",
    "    if p < 10:\n",
    "        return 'Too young!!'\n",
    "    if p > 60:\n",
    "        return 'Too old!!'\n",
    "\n",
    "age = input(\"How old are you?\", type=NUMBER, validate=check_age)"
   ]
  },
  {
   "cell_type": "code",
   "execution_count": 26,
   "id": "understanding-pattern",
   "metadata": {},
   "outputs": [
    {
     "data": {
      "text/plain": [
       "45"
      ]
     },
     "execution_count": 26,
     "metadata": {},
     "output_type": "execute_result"
    }
   ],
   "source": [
    "age"
   ]
  },
  {
   "cell_type": "code",
   "execution_count": 27,
   "id": "boring-ivory",
   "metadata": {},
   "outputs": [],
   "source": [
    "code = textarea('Code Edit', code={\n",
    "    'mode': \"python\",  # code language\n",
    "    'theme': 'darcula',  # Codemirror theme. Visit https://codemirror.net/demo/theme.html#cobalt to get more themes\n",
    "}, value='import something\\n# Write your python code')"
   ]
  },
  {
   "cell_type": "code",
   "execution_count": 28,
   "id": "personalized-construction",
   "metadata": {},
   "outputs": [
    {
     "data": {
      "text/plain": [
       "'import pandas as pd\\n# Write your python code'"
      ]
     },
     "execution_count": 28,
     "metadata": {},
     "output_type": "execute_result"
    }
   ],
   "source": [
    "code"
   ]
  },
  {
   "cell_type": "code",
   "execution_count": 29,
   "id": "shaped-february",
   "metadata": {},
   "outputs": [],
   "source": [
    "### Input group\n",
    "data = input_group(\"Basic info\",[\n",
    "  input('Input your name', name='name'),\n",
    "  input('Input your age', name='age', type=NUMBER, validate=check_age)\n",
    "])\n"
   ]
  },
  {
   "cell_type": "code",
   "execution_count": 30,
   "id": "undefined-franklin",
   "metadata": {},
   "outputs": [
    {
     "data": {
      "text/plain": [
       "{'name': 'Sandesh', 'age': 25}"
      ]
     },
     "execution_count": 30,
     "metadata": {},
     "output_type": "execute_result"
    }
   ],
   "source": [
    "data"
   ]
  },
  {
   "cell_type": "code",
   "execution_count": 34,
   "id": "biblical-trainer",
   "metadata": {},
   "outputs": [
    {
     "data": {
      "text/plain": [
       "<pywebio.output.use_scope_ at 0x2428fefc100>"
      ]
     },
     "execution_count": 34,
     "metadata": {},
     "output_type": "execute_result"
    }
   ],
   "source": [
    "from pywebio.output import *\n",
    "# Text Output\n",
    "put_text(\"Hello world!\")\n",
    "\n",
    "# Table Output\n",
    "put_table([\n",
    "    ['Commodity', 'Price'],\n",
    "    ['Apple', '5.5'],\n",
    "    ['Banana', '7'],\n",
    "])\n",
    "\n",
    "# Markdown Output\n",
    "put_markdown('~~Strikethrough~~')\n",
    "\n",
    "# File Output\n",
    "put_file('hello_word.txt', b'hello word!')\n",
    "\n",
    "# PopUp Output\n",
    "popup('popup title', 'popup text content')"
   ]
  },
  {
   "cell_type": "code",
   "execution_count": 35,
   "id": "cooked-welding",
   "metadata": {},
   "outputs": [],
   "source": [
    "with put_collapse('This is title'):\n",
    "    for i in range(4):\n",
    "        put_text(i)\n",
    "\n",
    "    put_table([\n",
    "        ['Commodity', 'Price'],\n",
    "        ['Apple', '5.5'],\n",
    "        ['Banana', '7'],\n",
    "    ])"
   ]
  },
  {
   "cell_type": "code",
   "execution_count": null,
   "id": "incorporate-ecuador",
   "metadata": {},
   "outputs": [],
   "source": []
  }
 ],
 "metadata": {
  "kernelspec": {
   "display_name": "Python 3 (ipykernel)",
   "language": "python",
   "name": "python3"
  },
  "language_info": {
   "codemirror_mode": {
    "name": "ipython",
    "version": 3
   },
   "file_extension": ".py",
   "mimetype": "text/x-python",
   "name": "python",
   "nbconvert_exporter": "python",
   "pygments_lexer": "ipython3",
   "version": "3.9.7"
  }
 },
 "nbformat": 4,
 "nbformat_minor": 5
}
